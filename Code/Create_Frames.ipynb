{
 "cells": [
  {
   "cell_type": "markdown",
   "metadata": {},
   "source": [
    "# Quick ipynb to create a few frames from my diving videos"
   ]
  },
  {
   "cell_type": "markdown",
   "metadata": {},
   "source": [
    "I created this ipynb to be able to create frames from my diving video with the help of ChatGPT"
   ]
  },
  {
   "cell_type": "code",
   "execution_count": 5,
   "metadata": {},
   "outputs": [],
   "source": [
    "import cv2 as cv\n",
    "import os"
   ]
  },
  {
   "cell_type": "markdown",
   "metadata": {},
   "source": [
    "We ca now add our videos via video_xy = path and then create frames with a defined intervall of frames to a predefined folder"
   ]
  },
  {
   "cell_type": "code",
   "execution_count": 3,
   "metadata": {},
   "outputs": [],
   "source": [
    "\n",
    "def create_frames(frame_interval, video_path, name):\n",
    "    output_folder = '/Users/rubenschmid/Desktop/ZHAW/4.Semester/Image und Signal Processing/Image-and-Signal-Processing Ruben/Diving_Filter/Video_to_frames/created_frames'\n",
    "    os.makedirs(output_folder, exist_ok=True)\n",
    "\n",
    "    cap = cv.VideoCapture(video_path)\n",
    "    frame_idx = 0\n",
    "\n",
    "    while cap.isOpened():\n",
    "        ret, frame = cap.read()\n",
    "        if not ret:\n",
    "            break\n",
    "\n",
    "        if frame_idx % frame_interval == 0:\n",
    "            frame_filename = os.path.join(output_folder, f'{name}_{frame_idx:04d}.jpg')\n",
    "            cv.imwrite(frame_filename, frame)\n",
    "\n",
    "        frame_idx += 1\n",
    "\n",
    "    cap.release()\n",
    "    print(f\"✅ Done! Extracted {frame_idx//frame_interval} images as '{name}_xxxx.jpg' to '{output_folder}/'\")"
   ]
  },
  {
   "cell_type": "code",
   "execution_count": null,
   "metadata": {},
   "outputs": [
    {
     "name": "stdout",
     "output_type": "stream",
     "text": [
      "Done! Extracted 14 images to '/Users/rubenschmid/Desktop/ZHAW/4.Semester/Image und Signal Processing/Image-and-Signal-Processing Ruben/Diving_Filter/Video_to_frames/created_frames/'\n"
     ]
    }
   ],
   "source": [
    "create_frames(90, video_1, name= \"Video_1\")"
   ]
  },
  {
   "cell_type": "markdown",
   "metadata": {},
   "source": [
    "Now that it works I can create a quick way to create all the frames for all the videos"
   ]
  },
  {
   "cell_type": "code",
   "execution_count": null,
   "metadata": {},
   "outputs": [],
   "source": [
    "#  video paths:\n",
    "\n",
    "\n",
    "video_1 = '/Users/rubenschmid/Desktop/ZHAW/4.Semester/Image und Signal Processing/Image-and-Signal-Processing Ruben/Diving_Filter/Video_to_frames/Videos/DJI_20240831115119_0024_D.MP4'\n",
    "video_2 = \n",
    "video_3 = "
   ]
  },
  {
   "cell_type": "code",
   "execution_count": null,
   "metadata": {},
   "outputs": [
    {
     "name": "stdout",
     "output_type": "stream",
     "text": [
      "✅ Done! Extracted 14 images as 'Video_1_xxxx.jpg' to '/Users/rubenschmid/Desktop/ZHAW/4.Semester/Image und Signal Processing/Image-and-Signal-Processing Ruben/Diving_Filter/Video_to_frames/created_frames/'\n"
     ]
    }
   ],
   "source": [
    "# create_frames(90, video_1, name= \"Video_1\")"
   ]
  },
  {
   "cell_type": "code",
   "execution_count": null,
   "metadata": {},
   "outputs": [],
   "source": [
    "video_paths = [video_1, video_2, video_3]\n",
    "names = [\"Video_1\", \"Video_2\", \"Video_3\"]\n",
    "\n",
    "for path, name in zip(video_paths, names):\n",
    "    create_frames(90, path, name)"
   ]
  }
 ],
 "metadata": {
  "kernelspec": {
   "display_name": ".venv",
   "language": "python",
   "name": "python3"
  },
  "language_info": {
   "codemirror_mode": {
    "name": "ipython",
    "version": 3
   },
   "file_extension": ".py",
   "mimetype": "text/x-python",
   "name": "python",
   "nbconvert_exporter": "python",
   "pygments_lexer": "ipython3",
   "version": "3.13.1"
  }
 },
 "nbformat": 4,
 "nbformat_minor": 2
}
